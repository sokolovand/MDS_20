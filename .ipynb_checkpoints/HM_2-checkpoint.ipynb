{
 "cells": [
  {
   "cell_type": "code",
   "execution_count": 1,
   "id": "4f262ebd-00d9-4662-a425-4e3902f2c27c",
   "metadata": {
    "execution": {
     "iopub.execute_input": "2022-02-03T03:26:27.240258Z",
     "iopub.status.busy": "2022-02-03T03:26:27.239256Z",
     "iopub.status.idle": "2022-02-03T03:26:27.794187Z",
     "shell.execute_reply": "2022-02-03T03:26:27.794187Z",
     "shell.execute_reply.started": "2022-02-03T03:26:27.240258Z"
    },
    "tags": []
   },
   "outputs": [],
   "source": [
    "import numpy as np"
   ]
  },
  {
   "cell_type": "markdown",
   "id": "1d971a83-866c-4ae3-8b49-5eb0a6c9215e",
   "metadata": {
    "tags": []
   },
   "source": [
    "<div class=\"alert alert-block alert-success\"> \n",
    "    <h3><p style=\"text-align: center;\">Задание 1</p></h3>\n",
    "</div>"
   ]
  },
  {
   "cell_type": "markdown",
   "id": "c1a73636-9a9c-4e08-bcbd-17607852c923",
   "metadata": {},
   "source": [
    "Создайте случайную матрицу А1 размерностью 5 на 5 . Вычислить транспонированную матрицу и найти обратную матрицу. Найдите определитель и ранг каждой полученной матрицы."
   ]
  },
  {
   "cell_type": "code",
   "execution_count": 7,
   "id": "9519c55d-62e4-40cc-8f75-e63fbbf51f9d",
   "metadata": {
    "execution": {
     "iopub.execute_input": "2022-02-03T03:28:35.804468Z",
     "iopub.status.busy": "2022-02-03T03:28:35.804468Z",
     "iopub.status.idle": "2022-02-03T03:28:35.817480Z",
     "shell.execute_reply": "2022-02-03T03:28:35.817480Z",
     "shell.execute_reply.started": "2022-02-03T03:28:35.804468Z"
    },
    "tags": []
   },
   "outputs": [
    {
     "data": {
      "text/plain": [
       "array([[0.62185857, 0.56360808, 0.46118518, 0.02649676, 0.16577272],\n",
       "       [0.70034203, 0.04419224, 0.3297648 , 0.42005492, 0.41821089],\n",
       "       [0.92744472, 0.16294614, 0.83657136, 0.67793518, 0.73457347],\n",
       "       [0.83654262, 0.26788696, 0.4906851 , 0.9007028 , 0.5750127 ],\n",
       "       [0.01297495, 0.61676167, 0.56808126, 0.61082363, 0.187265  ]])"
      ]
     },
     "execution_count": 7,
     "metadata": {},
     "output_type": "execute_result"
    }
   ],
   "source": [
    "# Рандомная матрица 5х5\n",
    "a1 = np.random.random((5, 5))\n",
    "a1"
   ]
  },
  {
   "cell_type": "code",
   "execution_count": 8,
   "id": "2129b35d-9736-4d15-af8b-190a0099d791",
   "metadata": {
    "execution": {
     "iopub.execute_input": "2022-02-03T03:28:36.562446Z",
     "iopub.status.busy": "2022-02-03T03:28:36.562446Z",
     "iopub.status.idle": "2022-02-03T03:28:36.575459Z",
     "shell.execute_reply": "2022-02-03T03:28:36.575459Z",
     "shell.execute_reply.started": "2022-02-03T03:28:36.562446Z"
    },
    "tags": []
   },
   "outputs": [
    {
     "data": {
      "text/plain": [
       "array([[0.62185857, 0.70034203, 0.92744472, 0.83654262, 0.01297495],\n",
       "       [0.56360808, 0.04419224, 0.16294614, 0.26788696, 0.61676167],\n",
       "       [0.46118518, 0.3297648 , 0.83657136, 0.4906851 , 0.56808126],\n",
       "       [0.02649676, 0.42005492, 0.67793518, 0.9007028 , 0.61082363],\n",
       "       [0.16577272, 0.41821089, 0.73457347, 0.5750127 , 0.187265  ]])"
      ]
     },
     "execution_count": 8,
     "metadata": {},
     "output_type": "execute_result"
    }
   ],
   "source": [
    "# Транспонированная матрица\n",
    "a2 = a1.T\n",
    "a2"
   ]
  },
  {
   "cell_type": "code",
   "execution_count": 11,
   "id": "2a1b2fb3-f13c-41a9-a69a-3c846c8178c6",
   "metadata": {
    "execution": {
     "iopub.execute_input": "2022-02-03T03:30:08.932233Z",
     "iopub.status.busy": "2022-02-03T03:30:08.932233Z",
     "iopub.status.idle": "2022-02-03T03:30:08.939238Z",
     "shell.execute_reply": "2022-02-03T03:30:08.939238Z",
     "shell.execute_reply.started": "2022-02-03T03:30:08.932233Z"
    },
    "tags": []
   },
   "outputs": [
    {
     "data": {
      "text/plain": [
       "array([[  -3.45054996,   39.23696438,  -10.58866293,  -17.5156461 ,\n",
       "          10.74707443],\n",
       "       [   7.33759322,  -55.94993563,   13.26710944,   26.92968166,\n",
       "         -16.27680408],\n",
       "       [  -7.69285986,   66.99917154,  -15.49293274,  -33.51958612,\n",
       "          20.88146682],\n",
       "       [  -5.16501929,   39.22220624,  -10.85732777,  -17.14929673,\n",
       "          12.22670376],\n",
       "       [  16.25669422, -149.62831464,   39.45157913,   70.14185093,\n",
       "         -45.02316774]])"
      ]
     },
     "execution_count": 11,
     "metadata": {},
     "output_type": "execute_result"
    }
   ],
   "source": [
    "# Обратная матрица\n",
    "a3 = np.linalg.inv(a1)\n",
    "a3"
   ]
  },
  {
   "cell_type": "code",
   "execution_count": 17,
   "id": "98b5979c-54af-44df-bd5f-1a0e366418b4",
   "metadata": {
    "execution": {
     "iopub.execute_input": "2022-02-03T03:31:24.162466Z",
     "iopub.status.busy": "2022-02-03T03:31:24.162466Z",
     "iopub.status.idle": "2022-02-03T03:31:24.180481Z",
     "shell.execute_reply": "2022-02-03T03:31:24.180481Z",
     "shell.execute_reply.started": "2022-02-03T03:31:24.162466Z"
    },
    "tags": []
   },
   "outputs": [
    {
     "data": {
      "text/plain": [
       "array([[ 1.00000000e+00,  4.44089210e-15,  1.33226763e-14,\n",
       "         1.33226763e-14,  9.76996262e-15],\n",
       "       [ 1.11854970e-14,  1.00000000e+00, -3.55271368e-15,\n",
       "         1.77635684e-15,  7.10542736e-15],\n",
       "       [-1.77080572e-14,  3.55271368e-15,  1.00000000e+00,\n",
       "        -8.88178420e-15, -1.33226763e-14],\n",
       "       [ 6.77236045e-15,  1.77635684e-15,  8.88178420e-15,\n",
       "         1.00000000e+00,  3.10862447e-15],\n",
       "       [ 1.11022302e-15, -3.55271368e-15, -1.06581410e-14,\n",
       "        -3.55271368e-15,  1.00000000e+00]])"
      ]
     },
     "execution_count": 17,
     "metadata": {},
     "output_type": "execute_result"
    }
   ],
   "source": [
    "# Проверка обратной матрицы\n",
    "a3 @ a1"
   ]
  },
  {
   "cell_type": "markdown",
   "id": "c66c2642-119f-485d-9ca2-02dbf7dc8a6c",
   "metadata": {},
   "source": [
    "Умножение исходной матрицы на обратную дало единичную матрицу. Следовательно, обратная матрица найдена верно"
   ]
  },
  {
   "cell_type": "code",
   "execution_count": 26,
   "id": "fb07b78b-785d-47f0-80bd-4107de86f6cc",
   "metadata": {
    "execution": {
     "iopub.execute_input": "2022-02-03T03:39:23.894220Z",
     "iopub.status.busy": "2022-02-03T03:39:23.894220Z",
     "iopub.status.idle": "2022-02-03T03:39:23.905229Z",
     "shell.execute_reply": "2022-02-03T03:39:23.905229Z",
     "shell.execute_reply.started": "2022-02-03T03:39:23.894220Z"
    },
    "tags": []
   },
   "outputs": [
    {
     "name": "stdout",
     "output_type": "stream",
     "text": [
      "Определитель матрицы a1:  0.0016 . Ранг натрицы a1:  5\n",
      "Определитель матрицы a2:  0.0016 . Ранг натрицы a2:  5\n",
      "Определитель матрицы a3:  635.4361 . Ранг натрицы a3:  5\n"
     ]
    }
   ],
   "source": [
    "# Определитель и ранг каждой полученной матрицы\n",
    "a1_det = np.linalg.det(a1)\n",
    "a1_rank = np.linalg.matrix_rank(a1)\n",
    "\n",
    "a2_det = np.linalg.det(a2)\n",
    "a2_rank = np.linalg.matrix_rank(a2)\n",
    "\n",
    "a3_det = np.linalg.det(a3)\n",
    "a3_rank = np.linalg.matrix_rank(a3)\n",
    "\n",
    "print('Определитель матрицы a1: ', round(a1_det, 4), '. Ранг натрицы a1: ', a1_rank)\n",
    "print('Определитель матрицы a2: ', round(a2_det, 4), '. Ранг натрицы a2: ', a2_rank)\n",
    "print('Определитель матрицы a3: ', round(a3_det, 4), '. Ранг натрицы a3: ', a3_rank)"
   ]
  },
  {
   "cell_type": "markdown",
   "id": "801344a5-55c1-4248-8539-7c7095f03633",
   "metadata": {
    "execution": {
     "iopub.execute_input": "2022-01-30T09:01:47.809489Z",
     "iopub.status.busy": "2022-01-30T09:01:47.809489Z",
     "iopub.status.idle": "2022-01-30T09:01:47.818496Z",
     "shell.execute_reply": "2022-01-30T09:01:47.818496Z",
     "shell.execute_reply.started": "2022-01-30T09:01:47.809489Z"
    },
    "tags": []
   },
   "source": [
    "<div class=\"alert alert-block alert-success\"> \n",
    "    <h3><p style=\"text-align: center;\">Задание 2</p></h3>\n",
    "</div>"
   ]
  },
  {
   "cell_type": "markdown",
   "id": "175cedee-561a-4f6b-9c10-73d020174a9a",
   "metadata": {},
   "source": [
    "Создайте диагональную матрицу, поэлементно перемножив единичную матрицу  и случайную матрицу  размерности 6 на 6. Найдите определитель и ранг полученной матрицы."
   ]
  },
  {
   "cell_type": "code",
   "execution_count": 24,
   "id": "bbe8833c-4631-410f-b3c6-9bdecc76f040",
   "metadata": {
    "execution": {
     "iopub.execute_input": "2022-02-03T03:37:06.258505Z",
     "iopub.status.busy": "2022-02-03T03:37:06.258505Z",
     "iopub.status.idle": "2022-02-03T03:37:06.268522Z",
     "shell.execute_reply": "2022-02-03T03:37:06.268522Z",
     "shell.execute_reply.started": "2022-02-03T03:37:06.258505Z"
    },
    "tags": []
   },
   "outputs": [
    {
     "data": {
      "text/plain": [
       "array([[0.89516896, 0.        , 0.        , 0.        , 0.        ,\n",
       "        0.        ],\n",
       "       [0.        , 0.71740933, 0.        , 0.        , 0.        ,\n",
       "        0.        ],\n",
       "       [0.        , 0.        , 0.45709745, 0.        , 0.        ,\n",
       "        0.        ],\n",
       "       [0.        , 0.        , 0.        , 0.96590348, 0.        ,\n",
       "        0.        ],\n",
       "       [0.        , 0.        , 0.        , 0.        , 0.68158799,\n",
       "        0.        ],\n",
       "       [0.        , 0.        , 0.        , 0.        , 0.        ,\n",
       "        0.88211037]])"
      ]
     },
     "execution_count": 24,
     "metadata": {},
     "output_type": "execute_result"
    }
   ],
   "source": [
    "a4_eye = np.eye(6)\n",
    "a4_random = np.random.random((6, 6))\n",
    "a4_diag = a4_eye * a4_random\n",
    "a4_diag"
   ]
  },
  {
   "cell_type": "code",
   "execution_count": 27,
   "id": "2beb4289-e676-4895-afd6-bc05df298645",
   "metadata": {
    "execution": {
     "iopub.execute_input": "2022-02-03T03:39:31.802459Z",
     "iopub.status.busy": "2022-02-03T03:39:31.802459Z",
     "iopub.status.idle": "2022-02-03T03:39:31.820475Z",
     "shell.execute_reply": "2022-02-03T03:39:31.820475Z",
     "shell.execute_reply.started": "2022-02-03T03:39:31.802459Z"
    },
    "tags": []
   },
   "outputs": [
    {
     "name": "stdout",
     "output_type": "stream",
     "text": [
      "Определитель матрицы a4_diag:  0.1705\n",
      "Ранг матрицы a4_diag:  6\n"
     ]
    }
   ],
   "source": [
    "# Определитель и ранг матрицы a4_diag\n",
    "a4_diag_det = np.linalg.det(a4_diag)\n",
    "a4_diag_rank = np.linalg.matrix_rank(a4_diag)\n",
    "\n",
    "print('Определитель матрицы a4_diag: ', round(a4_diag_det, 4))\n",
    "print('Ранг матрицы a4_diag: ', a4_diag_rank)"
   ]
  },
  {
   "cell_type": "markdown",
   "id": "7b6494be-14bd-45e3-b1d5-1d6a19ef5e92",
   "metadata": {},
   "source": [
    "<div class=\"alert alert-block alert-success\"> \n",
    "    <h3><p style=\"text-align: center;\">Задание 3</p></h3>\n",
    "</div>"
   ]
  },
  {
   "cell_type": "markdown",
   "id": "7035de2f-7853-4352-add3-4f67a162c950",
   "metadata": {},
   "source": [
    "Далее давайте представим изображения в виде матриц и также определим их свойства. Для первых 10 цифр (от 0 до 9) из тестовой базы рукописных цифр (MNIST) определить какая из этих цифр имеет максимальный ранг?"
   ]
  },
  {
   "cell_type": "code",
   "execution_count": 37,
   "id": "184279ee-5e1a-4994-b7f7-5036aeeb5c96",
   "metadata": {
    "execution": {
     "iopub.execute_input": "2022-02-03T03:41:12.449146Z",
     "iopub.status.busy": "2022-02-03T03:41:12.449146Z",
     "iopub.status.idle": "2022-02-03T03:41:12.523212Z",
     "shell.execute_reply": "2022-02-03T03:41:12.523212Z",
     "shell.execute_reply.started": "2022-02-03T03:41:12.449146Z"
    },
    "tags": []
   },
   "outputs": [],
   "source": [
    "import numpy as np\n",
    "from sklearn.datasets import load_digits\n",
    "import matplotlib.pyplot as plt\n",
    "digits = load_digits()"
   ]
  },
  {
   "cell_type": "code",
   "execution_count": 44,
   "id": "61da3077-4dcb-4f12-b78e-0826d0d8763d",
   "metadata": {
    "execution": {
     "iopub.execute_input": "2022-02-03T03:42:11.556533Z",
     "iopub.status.busy": "2022-02-03T03:42:11.556533Z",
     "iopub.status.idle": "2022-02-03T03:42:11.666111Z",
     "shell.execute_reply": "2022-02-03T03:42:11.666111Z",
     "shell.execute_reply.started": "2022-02-03T03:42:11.556533Z"
    },
    "tags": []
   },
   "outputs": [
    {
     "data": {
      "text/plain": [
       "<Figure size 432x288 with 0 Axes>"
      ]
     },
     "metadata": {},
     "output_type": "display_data"
    },
    {
     "data": {
      "image/png": "[encoded data removed]",
      "text/plain": [
       "<Figure size 288x288 with 1 Axes>"
      ]
     },
     "metadata": {
      "needs_background": "light"
     },
     "output_type": "display_data"
    }
   ],
   "source": [
    "plt.gray();\n",
    "plt.matshow(digits.images[0]);\n",
    "plt.show()"
   ]
  },
  {
   "cell_type": "code",
   "execution_count": 47,
   "id": "608f58ef-e2e6-4e19-86fe-35ccde3916c9",
   "metadata": {
    "execution": {
     "iopub.execute_input": "2022-02-03T03:45:58.637034Z",
     "iopub.status.busy": "2022-02-03T03:45:58.637034Z",
     "iopub.status.idle": "2022-02-03T03:45:58.646043Z",
     "shell.execute_reply": "2022-02-03T03:45:58.646043Z",
     "shell.execute_reply.started": "2022-02-03T03:45:58.637034Z"
    },
    "tags": []
   },
   "outputs": [
    {
     "name": "stdout",
     "output_type": "stream",
     "text": [
      "Максимальный ранг у цифры  7\n",
      "Её ранг равен  7\n"
     ]
    }
   ],
   "source": [
    "num_with_max_rank = 0\n",
    "rank_of_this_num = 0\n",
    "for i in range(10): \n",
    "    matrix = digits.images[i]\n",
    "    matrix_rank = np.linalg.matrix_rank(matrix)\n",
    "    if matrix_rank > rank_of_this_num:\n",
    "        num_with_max_rank = i\n",
    "        rank_of_this_num = matrix_rank\n",
    "        \n",
    "print('Максимальный ранг у цифры ', num_with_max_rank)\n",
    "print('Её ранг равен ', rank_of_this_num)"
   ]
  },
  {
   "cell_type": "markdown",
   "id": "b78bafd5-a8c1-483f-8503-da3f2705fa00",
   "metadata": {},
   "source": [
    "<div class=\"alert alert-block alert-success\"> \n",
    "    <h3><p style=\"text-align: center;\">Задание 4</p></h3>\n",
    "</div>"
   ]
  },
  {
   "cell_type": "markdown",
   "id": "dae4d882-debf-4054-afa0-0a5894140049",
   "metadata": {},
   "source": [
    "Для первых 10 цифр (от 0 до 9) из тестовой базы рукописных цифр (MNIST) найдите все собственные числа. Для каких цифр все собственные значения не являются комплексными?"
   ]
  },
  {
   "cell_type": "code",
   "execution_count": 65,
   "id": "116107db-d829-43c5-9303-6914414ed47f",
   "metadata": {
    "execution": {
     "iopub.execute_input": "2022-02-03T03:51:30.727028Z",
     "iopub.status.busy": "2022-02-03T03:51:30.727028Z",
     "iopub.status.idle": "2022-02-03T03:51:30.741040Z",
     "shell.execute_reply": "2022-02-03T03:51:30.741040Z",
     "shell.execute_reply.started": "2022-02-03T03:51:30.727028Z"
    },
    "tags": []
   },
   "outputs": [
    {
     "name": "stdout",
     "output_type": "stream",
     "text": [
      "***Собственное значение цифры 0 равно [  0.           0.          38.87795499  -3.63459035  -0.73101\n",
      "   3.91352574   2.68851616 -14.11439655]\n",
      "***Собственное значение цифры 1 равно [ 0.        +0.j          0.        +0.j          0.        +0.j\n",
      " 43.90876882+0.j         -2.81320584+5.92806111j -2.81320584-5.92806111j\n",
      "  1.35882143+0.32955102j  1.35882143-0.32955102j]\n",
      "***Собственное значение цифры 2 равно [  0.           0.           5.          39.6980372  -18.4455357\n",
      "  -4.77732707   8.20786562   4.31695994]\n",
      "***Собственное значение цифры 3 равно [ 0.        +0.j          0.        +0.j         26.78722854+0.j\n",
      " -4.6394655 +0.j          0.69927242+0.j         11.54360992+6.68082411j\n",
      " 11.54360992-6.68082411j  9.0657447 +0.j        ]\n",
      "***Собственное значение цифры 4 равно [  0.        +0.j           0.        +0.j\n",
      "  42.31646853+0.j         -16.51428562+0.j\n",
      "   2.74751936+8.20271632j   2.74751936-8.20271632j\n",
      "  -1.03051134+0.j           1.73328971+0.j        ]\n",
      "***Собственное значение цифры 5 равно [ 0.        +0.j          0.        +0.j          0.        +0.j\n",
      " 37.46865411+0.j         19.99538181+0.j         -2.16232674+0.79050023j\n",
      " -2.16232674-0.79050023j  2.86061757+0.j        ]\n",
      "***Собственное значение цифры 6 равно [ 0.          0.          0.         30.23327329 20.52704925 -2.74115196\n",
      "  5.8593327   3.12149672]\n",
      "***Собственное значение цифры 7 равно [  0.        +0.j           0.        +0.j\n",
      "  38.91161854+0.j         -13.97150918+0.j\n",
      "   6.08033452+0.j          -1.23858742+6.12713731j\n",
      "  -1.23858742-6.12713731j  -5.54326904+0.j        ]\n",
      "***Собственное значение цифры 8 равно [ 0.        +0.j          0.        +0.j         44.56329631+0.j\n",
      " 18.3859097 +0.j         -1.71753054+6.38032702j -1.71753054-6.38032702j\n",
      "  4.59692012+0.j         -2.11106505+0.j        ]\n",
      "***Собственное значение цифры 9 равно [  0.        +0.j           0.        +0.j\n",
      "  40.5091891 +0.j          16.66230149+0.j\n",
      " -12.29208882+0.j          -3.97807147+0.j\n",
      "   0.04933485+4.15644444j   0.04933485-4.15644444j]\n"
     ]
    }
   ],
   "source": [
    "num_dict = {}\n",
    "\n",
    "for i in range(10):\n",
    "    matrix = digits.images[i]\n",
    "    matrix_eigvals = np.linalg.eigvals(matrix)\n",
    "    num_dict[i] = matrix_eigvals\n",
    "    \n",
    "for i in num_dict:\n",
    "    print(f'***Собственное значение цифры {i} равно {num_dict[i]}' )"
   ]
  },
  {
   "cell_type": "code",
   "execution_count": 105,
   "id": "2948304b-aef2-48f1-8bc5-e4c631da87e3",
   "metadata": {
    "execution": {
     "iopub.execute_input": "2022-02-03T04:09:57.191449Z",
     "iopub.status.busy": "2022-02-03T04:09:57.191449Z",
     "iopub.status.idle": "2022-02-03T04:09:57.202459Z",
     "shell.execute_reply": "2022-02-03T04:09:57.202459Z",
     "shell.execute_reply.started": "2022-02-03T04:09:57.191449Z"
    },
    "tags": []
   },
   "outputs": [
    {
     "name": "stdout",
     "output_type": "stream",
     "text": [
      "Цифры, чьи собственные числа матрицы не являются комплексными, следующие:  0, 2, 6\n"
     ]
    }
   ],
   "source": [
    "num_without_complex_part = set()\n",
    "for i in num_dict:\n",
    "    for j in num_dict[i]:\n",
    "        if j.imag == 0:\n",
    "            # Вещественное число\n",
    "            num_without_complex_part.add(i)\n",
    "        else:\n",
    "            # Комплексное\n",
    "            num_without_complex_part.remove(i)\n",
    "            break\n",
    "            \n",
    "print('Цифры, чьи собственные числа матрицы не являются комплексными, следующие: ', str(num_without_complex_part).strip('{}'))     "
   ]
  }
 ],
 "metadata": {
  "kernelspec": {
   "display_name": "Python 3 (ipykernel)",
   "language": "python",
   "name": "python3"
  },
  "language_info": {
   "codemirror_mode": {
    "name": "ipython",
    "version": 3
   },
   "file_extension": ".py",
   "mimetype": "text/x-python",
   "name": "python",
   "nbconvert_exporter": "python",
   "pygments_lexer": "ipython3",
   "version": "3.9.7"
  }
 },
 "nbformat": 4,
 "nbformat_minor": 5
}
