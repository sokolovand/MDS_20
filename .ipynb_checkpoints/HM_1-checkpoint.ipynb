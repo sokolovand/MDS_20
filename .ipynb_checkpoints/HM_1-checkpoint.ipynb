{
 "cells": [
  {
   "cell_type": "code",
   "execution_count": 1,
   "id": "4f262ebd-00d9-4662-a425-4e3902f2c27c",
   "metadata": {
    "execution": {
     "iopub.execute_input": "2022-01-30T12:29:59.439872Z",
     "iopub.status.busy": "2022-01-30T12:29:59.439872Z",
     "iopub.status.idle": "2022-01-30T12:29:59.823015Z",
     "shell.execute_reply": "2022-01-30T12:29:59.823015Z",
     "shell.execute_reply.started": "2022-01-30T12:29:59.439872Z"
    },
    "tags": []
   },
   "outputs": [],
   "source": [
    "import numpy as np\n",
    "import sympy as sym"
   ]
  },
  {
   "cell_type": "markdown",
   "id": "1d971a83-866c-4ae3-8b49-5eb0a6c9215e",
   "metadata": {
    "tags": []
   },
   "source": [
    "<div class=\"alert alert-block alert-success\"> \n",
    "    <h3><p style=\"text-align: center;\">Задание 1</p></h3>\n",
    "</div>"
   ]
  },
  {
   "cell_type": "markdown",
   "id": "c1a73636-9a9c-4e08-bcbd-17607852c923",
   "metadata": {},
   "source": [
    "Представить фильмы в виде бинарных векторов (numpy array) используюя следующие признаки:\n",
    "\n",
    "[Комедия, Боевик, Исторический, Бред Питт, Бенедикт Камбербэтч, Квентин Тарантино]\n",
    "\n",
    "* Игра в имитацию [https://www.kinopoisk.ru/film/635772/]            \n",
    "* Ярость [https://www.kinopoisk.ru/film/740644/]                \n",
    "* 12 лет рабства [https://www.kinopoisk.ru/film/606646/]                  \n",
    "* Однажды в Голливуде [https://www.kinopoisk.ru/film/1047883/]"
   ]
  },
  {
   "cell_type": "code",
   "execution_count": 2,
   "id": "9519c55d-62e4-40cc-8f75-e63fbbf51f9d",
   "metadata": {
    "execution": {
     "iopub.execute_input": "2022-01-30T12:30:00.951864Z",
     "iopub.status.busy": "2022-01-30T12:30:00.951864Z",
     "iopub.status.idle": "2022-01-30T12:30:00.963875Z",
     "shell.execute_reply": "2022-01-30T12:30:00.963875Z",
     "shell.execute_reply.started": "2022-01-30T12:30:00.951864Z"
    },
    "tags": []
   },
   "outputs": [
    {
     "name": "stdout",
     "output_type": "stream",
     "text": [
      "Бинарный вектор для \"Игра в имитацию\":  [0 0 0 0 1 0]\n",
      "Бинарный вектор для \"Ярость\":  [0 1 0 1 0 0]\n",
      "Бинарный вектор для \"12 лет рабства\":  [0 0 1 1 1 0]\n",
      "Бинарный вектор для \"Однажды в.. Голливуде\":  [1 0 0 1 0 1]\n"
     ]
    }
   ],
   "source": [
    "the_imitation_game = np.array([0, 0, 0, 0, 1, 0])\n",
    "fury = np.array([0, 1, 0, 1, 0, 0])\n",
    "twelve_yesars_of_slave = np.array([0, 0, 1, 1, 1, 0])\n",
    "once_upon_a_time_in_hollywood = np.array([1, 0, 0, 1, 0, 1])\n",
    "print('Бинарный вектор для \"Игра в имитацию\": ', the_imitation_game)\n",
    "print('Бинарный вектор для \"Ярость\": ', fury)\n",
    "print('Бинарный вектор для \"12 лет рабства\": ', twelve_yesars_of_slave)\n",
    "print('Бинарный вектор для \"Однажды в.. Голливуде\": ', once_upon_a_time_in_hollywood)"
   ]
  },
  {
   "cell_type": "markdown",
   "id": "801344a5-55c1-4248-8539-7c7095f03633",
   "metadata": {
    "execution": {
     "iopub.execute_input": "2022-01-30T09:01:47.809489Z",
     "iopub.status.busy": "2022-01-30T09:01:47.809489Z",
     "iopub.status.idle": "2022-01-30T09:01:47.818496Z",
     "shell.execute_reply": "2022-01-30T09:01:47.818496Z",
     "shell.execute_reply.started": "2022-01-30T09:01:47.809489Z"
    },
    "tags": []
   },
   "source": [
    "<div class=\"alert alert-block alert-success\"> \n",
    "    <h3><p style=\"text-align: center;\">Задание 2</p></h3>\n",
    "</div>"
   ]
  },
  {
   "cell_type": "markdown",
   "id": "175cedee-561a-4f6b-9c10-73d020174a9a",
   "metadata": {},
   "source": [
    "Вычислить Евклидову норму каждого из векторов, полученных в Задании 1."
   ]
  },
  {
   "cell_type": "code",
   "execution_count": 3,
   "id": "bbe8833c-4631-410f-b3c6-9bdecc76f040",
   "metadata": {
    "execution": {
     "iopub.execute_input": "2022-01-30T12:30:01.990861Z",
     "iopub.status.busy": "2022-01-30T12:30:01.990861Z",
     "iopub.status.idle": "2022-01-30T12:30:02.003873Z",
     "shell.execute_reply": "2022-01-30T12:30:02.003873Z",
     "shell.execute_reply.started": "2022-01-30T12:30:01.990861Z"
    },
    "tags": []
   },
   "outputs": [
    {
     "name": "stdout",
     "output_type": "stream",
     "text": [
      "Евклидова норма для \"Игра в имитацию\":  1.0\n",
      "Евклидова норма для \"Ярость\":  1.414\n",
      "Евклидова норма для \"12 лет рабства\":  1.732\n",
      "Евклидова норма для \"Однажды в.. Голливуде\":  1.732\n"
     ]
    }
   ],
   "source": [
    "the_imitation_game_norma = np.linalg.norm(the_imitation_game)\n",
    "fury_norma = np.linalg.norm(fury)\n",
    "twelve_yesars_of_slave_norma = np.linalg.norm(twelve_yesars_of_slave)\n",
    "once_upon_a_time_in_hollywood_norma = np.linalg.norm(once_upon_a_time_in_hollywood)\n",
    "print('Евклидова норма для \"Игра в имитацию\": ', round(the_imitation_game_norma, 3))\n",
    "print('Евклидова норма для \"Ярость\": ', round(fury_norma, 3))\n",
    "print('Евклидова норма для \"12 лет рабства\": ', round(twelve_yesars_of_slave_norma, 3))\n",
    "print('Евклидова норма для \"Однажды в.. Голливуде\": ', round(once_upon_a_time_in_hollywood_norma, 3))"
   ]
  },
  {
   "cell_type": "markdown",
   "id": "7b6494be-14bd-45e3-b1d5-1d6a19ef5e92",
   "metadata": {},
   "source": [
    "<div class=\"alert alert-block alert-success\"> \n",
    "    <h3><p style=\"text-align: center;\">Задание 3</p></h3>\n",
    "</div>"
   ]
  },
  {
   "cell_type": "markdown",
   "id": "7035de2f-7853-4352-add3-4f67a162c950",
   "metadata": {},
   "source": [
    "Найти угол между векторами-фильмами \"Ярость\" и \"12 лет рабства\". Результатом будет являться косинусная мера, которую можно использовать для определения похожести векторов."
   ]
  },
  {
   "cell_type": "code",
   "execution_count": 4,
   "id": "184279ee-5e1a-4994-b7f7-5036aeeb5c96",
   "metadata": {
    "execution": {
     "iopub.execute_input": "2022-01-30T12:30:03.451893Z",
     "iopub.status.busy": "2022-01-30T12:30:03.450892Z",
     "iopub.status.idle": "2022-01-30T12:30:03.455896Z",
     "shell.execute_reply": "2022-01-30T12:30:03.455896Z",
     "shell.execute_reply.started": "2022-01-30T12:30:03.451893Z"
    },
    "tags": []
   },
   "outputs": [
    {
     "name": "stdout",
     "output_type": "stream",
     "text": [
      "Угол между векторамя-фильмами \"Ярость\" и \"12 лет рабства\":  65.91  градус\n"
     ]
    }
   ],
   "source": [
    "degree = np.rad2deg(np.arccos(fury @ twelve_yesars_of_slave / (fury_norma * twelve_yesars_of_slave_norma)))\n",
    "print('Угол между векторамя-фильмами \"Ярость\" и \"12 лет рабства\": ', round(degree, 2), ' градус')"
   ]
  },
  {
   "cell_type": "markdown",
   "id": "b78bafd5-a8c1-483f-8503-da3f2705fa00",
   "metadata": {},
   "source": [
    "<div class=\"alert alert-block alert-success\"> \n",
    "    <h3><p style=\"text-align: center;\">Задание 4</p></h3>\n",
    "</div>"
   ]
  },
  {
   "cell_type": "markdown",
   "id": "dae4d882-debf-4054-afa0-0a5894140049",
   "metadata": {},
   "source": [
    "Объединить векторы, полученные в Задании 1 в матрицу, где каждый вектор является строкой матрицы. Полученную матрицу умножить на вектор [1,2,3,4]"
   ]
  },
  {
   "cell_type": "code",
   "execution_count": 5,
   "id": "116107db-d829-43c5-9303-6914414ed47f",
   "metadata": {
    "execution": {
     "iopub.execute_input": "2022-01-30T12:30:14.359579Z",
     "iopub.status.busy": "2022-01-30T12:30:14.359579Z",
     "iopub.status.idle": "2022-01-30T12:30:14.369588Z",
     "shell.execute_reply": "2022-01-30T12:30:14.369588Z",
     "shell.execute_reply.started": "2022-01-30T12:30:14.359579Z"
    },
    "tags": []
   },
   "outputs": [],
   "source": [
    "the_imitation_game = np.array([0, 0, 0, 0, 1, 0])\n",
    "fury = np.array([0, 1, 0, 1, 0, 0])\n",
    "twelve_yesars_of_slave = np.array([0, 0, 1, 1, 1, 0])\n",
    "once_upon_a_time_in_hollywood = np.array([1, 0, 0, 1, 0, 1])\n",
    "\n",
    "vector = np.array([1, 2, 3, 4])"
   ]
  },
  {
   "cell_type": "code",
   "execution_count": 6,
   "id": "87ddc6d0-9ac8-40e0-a6c4-e0708db4a99a",
   "metadata": {
    "execution": {
     "iopub.execute_input": "2022-01-30T12:30:16.934843Z",
     "iopub.status.busy": "2022-01-30T12:30:16.934843Z",
     "iopub.status.idle": "2022-01-30T12:30:16.944853Z",
     "shell.execute_reply": "2022-01-30T12:30:16.944853Z",
     "shell.execute_reply.started": "2022-01-30T12:30:16.934843Z"
    },
    "tags": []
   },
   "outputs": [
    {
     "data": {
      "text/plain": [
       "(4, 6)"
      ]
     },
     "execution_count": 6,
     "metadata": {},
     "output_type": "execute_result"
    }
   ],
   "source": [
    "film_matrix = np.array([the_imitation_game, fury, twelve_yesars_of_slave, once_upon_a_time_in_hollywood])\n",
    "film_matrix.shape"
   ]
  },
  {
   "cell_type": "code",
   "execution_count": null,
   "id": "2bedb919-e670-4854-a819-68989e2905bf",
   "metadata": {},
   "outputs": [
    {
     "data": {
      "text/plain": [
       "array([4, 2, 3, 9, 4, 4])"
      ]
     },
     "execution_count": 12,
     "metadata": {},
     "output_type": "execute_result"
    }
   ],
   "source": [
    "# Умножение вектора на матрицу\n",
    "res = vector @ film_matrix\n",
    "res"
   ]
  },
  {
   "cell_type": "markdown",
   "id": "5ae80737-679c-433c-98a3-f6eb889edbc7",
   "metadata": {},
   "source": [
    "<div class=\"alert alert-block alert-success\"> \n",
    "    <h3><p style=\"text-align: center;\">Задание 5</p></h3>\n",
    "</div>"
   ]
  },
  {
   "cell_type": "markdown",
   "id": "c61bed45-44e1-47d2-8cd5-34f2cd7fe338",
   "metadata": {},
   "source": [
    "Вычислить на бумаге и с помощью Python значение первой и второй производной для функции <b>3x(x^2+x)^3</b> в точке х=1"
   ]
  },
  {
   "cell_type": "code",
   "execution_count": 28,
   "id": "bb32d202-b499-4553-908a-e0af43489c9b",
   "metadata": {
    "execution": {
     "iopub.execute_input": "2022-01-30T09:41:46.899147Z",
     "iopub.status.busy": "2022-01-30T09:41:46.899147Z",
     "iopub.status.idle": "2022-01-30T09:41:46.912159Z",
     "shell.execute_reply": "2022-01-30T09:41:46.912159Z",
     "shell.execute_reply.started": "2022-01-30T09:41:46.899147Z"
    },
    "tags": []
   },
   "outputs": [
    {
     "data": {
      "text/latex": [
       "$\\displaystyle 3 x \\left(x^{2} + x\\right)^{3}$"
      ],
      "text/plain": [
       "3*x*(x**2 + x)**3"
      ]
     },
     "execution_count": 28,
     "metadata": {},
     "output_type": "execute_result"
    }
   ],
   "source": [
    "x = sym.Symbol('x')\n",
    "equation = 3*x*(x**2 + x)**3\n",
    "equation"
   ]
  },
  {
   "cell_type": "code",
   "execution_count": 37,
   "id": "daa5c8dd-e6d3-4f34-ab76-ec199ed55c19",
   "metadata": {
    "execution": {
     "iopub.execute_input": "2022-01-30T09:44:14.011682Z",
     "iopub.status.busy": "2022-01-30T09:44:14.011682Z",
     "iopub.status.idle": "2022-01-30T09:44:14.020690Z",
     "shell.execute_reply": "2022-01-30T09:44:14.020690Z",
     "shell.execute_reply.started": "2022-01-30T09:44:14.011682Z"
    },
    "tags": []
   },
   "outputs": [
    {
     "name": "stdout",
     "output_type": "stream",
     "text": [
      "Первая производная от функции:  3*x*(6*x + 3)*(x**2 + x)**2 + 3*(x**2 + x)**3\n",
      "Значение первой производной в точке х=1:  132\n"
     ]
    }
   ],
   "source": [
    "res_1 = sym.diff(equation, x)\n",
    "print(\"Первая производная от функции: \", res_1)\n",
    "print(\"Значение первой производной в точке х=1: \", res_1.subs(x, 1))"
   ]
  },
  {
   "cell_type": "code",
   "execution_count": 38,
   "id": "22c5a88d-d932-4a08-9251-2b1b7da1e10b",
   "metadata": {
    "execution": {
     "iopub.execute_input": "2022-01-30T09:44:24.532857Z",
     "iopub.status.busy": "2022-01-30T09:44:24.531856Z",
     "iopub.status.idle": "2022-01-30T09:44:24.552875Z",
     "shell.execute_reply": "2022-01-30T09:44:24.552875Z",
     "shell.execute_reply.started": "2022-01-30T09:44:24.532857Z"
    },
    "tags": []
   },
   "outputs": [
    {
     "name": "stdout",
     "output_type": "stream",
     "text": [
      "Вторая производная от функции:  3*x*(4*x + 2)*(6*x + 3)*(x**2 + x) + 18*x*(x**2 + x)**2 + 6*(6*x + 3)*(x**2 + x)**2\n",
      "Значение второй производной в точке х=1:  612\n"
     ]
    }
   ],
   "source": [
    "res_2 = sym.diff(res_1, x)\n",
    "print(\"Вторая производная от функции: \", res_2)\n",
    "print(\"Значение второй производной в точке х=1: \", res_2.subs(x, 1))"
   ]
  }
 ],
 "metadata": {
  "kernelspec": {
   "display_name": "Python 3 (ipykernel)",
   "language": "python",
   "name": "python3"
  },
  "language_info": {
   "codemirror_mode": {
    "name": "ipython",
    "version": 3
   },
   "file_extension": ".py",
   "mimetype": "text/x-python",
   "name": "python",
   "nbconvert_exporter": "python",
   "pygments_lexer": "ipython3",
   "version": "3.9.7"
  }
 },
 "nbformat": 4,
 "nbformat_minor": 5
}
