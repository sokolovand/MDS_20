{
 "cells": [
  {
   "cell_type": "code",
   "execution_count": 1,
   "id": "4f262ebd-00d9-4662-a425-4e3902f2c27c",
   "metadata": {
    "execution": {
     "iopub.execute_input": "2022-01-30T08:38:11.768123Z",
     "iopub.status.busy": "2022-01-30T08:38:11.767122Z",
     "iopub.status.idle": "2022-01-30T08:38:12.125441Z",
     "shell.execute_reply": "2022-01-30T08:38:12.125441Z",
     "shell.execute_reply.started": "2022-01-30T08:38:11.768123Z"
    }
   },
   "outputs": [],
   "source": [
    "import numpy as np\n",
    "import sympy as sym"
   ]
  },
  {
   "cell_type": "code",
   "execution_count": null,
   "id": "9332ec7c-f233-420d-bd4e-8140d32d6303",
   "metadata": {},
   "outputs": [],
   "source": []
  }
 ],
 "metadata": {
  "kernelspec": {
   "display_name": "Python 3 (ipykernel)",
   "language": "python",
   "name": "python3"
  },
  "language_info": {
   "codemirror_mode": {
    "name": "ipython",
    "version": 3
   },
   "file_extension": ".py",
   "mimetype": "text/x-python",
   "name": "python",
   "nbconvert_exporter": "python",
   "pygments_lexer": "ipython3",
   "version": "3.9.7"
  }
 },
 "nbformat": 4,
 "nbformat_minor": 5
}
