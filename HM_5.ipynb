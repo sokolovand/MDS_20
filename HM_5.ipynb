{
 "cells": [
  {
   "cell_type": "markdown",
   "id": "1d971a83-866c-4ae3-8b49-5eb0a6c9215e",
   "metadata": {
    "tags": []
   },
   "source": [
    "<div class=\"alert alert-block alert-success\"> \n",
    "    <h3><p style=\"text-align: center;\">Задание 1</p></h3>\n",
    "</div>"
   ]
  },
  {
   "cell_type": "markdown",
   "id": "c1a73636-9a9c-4e08-bcbd-17607852c923",
   "metadata": {},
   "source": [
    "Постройте трехмерный график функции, а также график линий уровня с уровнями {1, 5, 10}"
   ]
  },
  {
   "cell_type": "code",
   "execution_count": 4,
   "id": "99f1b24f-6a66-4a5f-b63c-2894f4ac07fa",
   "metadata": {
    "execution": {
     "iopub.execute_input": "2022-02-15T03:31:00.708174Z",
     "iopub.status.busy": "2022-02-15T03:31:00.708174Z",
     "iopub.status.idle": "2022-02-15T03:31:02.228819Z",
     "shell.execute_reply": "2022-02-15T03:31:02.228819Z",
     "shell.execute_reply.started": "2022-02-15T03:31:00.708174Z"
    },
    "tags": []
   },
   "outputs": [],
   "source": [
    "import numpy as np\n",
    "import sympy as sym\n",
    "import matplotlib.pyplot as plt\n",
    "import matplotlib.cm as cm"
   ]
  },
  {
   "cell_type": "code",
   "execution_count": 21,
   "id": "7401e582-12eb-4018-8936-f4f9cd5aa12b",
   "metadata": {
    "execution": {
     "iopub.execute_input": "2022-02-14T04:13:31.928296Z",
     "iopub.status.busy": "2022-02-14T04:13:31.928296Z",
     "iopub.status.idle": "2022-02-14T04:13:32.041302Z",
     "shell.execute_reply": "2022-02-14T04:13:32.041302Z",
     "shell.execute_reply.started": "2022-02-14T04:13:31.928296Z"
    },
    "tags": []
   },
   "outputs": [
    {
     "data": {
      "image/png": "[encoded data removed]",
      "text/plain": [
       "<Figure size 432x288 with 1 Axes>"
      ]
     },
     "metadata": {
      "needs_background": "light"
     },
     "output_type": "display_data"
    }
   ],
   "source": [
    "x = np.arange(-11, 11.1, 0.1)\n",
    "y = np.arange(-11, 11.1, 0.1)\n",
    "X, Y = np.meshgrid(x, y)\n",
    "z = Y**2 - X**2*Y + 2*X*Y\n",
    "\n",
    "fig, ax = plt.subplots()\n",
    "CS = ax.contour(X, Y,z, [1, 5, 10], colors=['red', 'blue', 'green'])\n",
    "ax.clabel(CS, inline=True, fontsize=14)\n",
    "ax.set_title('Graph')\n",
    "plt.xlabel('X')\n",
    "plt.ylabel('Y')\n",
    "ax.grid()"
   ]
  },
  {
   "cell_type": "markdown",
   "id": "801344a5-55c1-4248-8539-7c7095f03633",
   "metadata": {
    "execution": {
     "iopub.execute_input": "2022-01-30T09:01:47.809489Z",
     "iopub.status.busy": "2022-01-30T09:01:47.809489Z",
     "iopub.status.idle": "2022-01-30T09:01:47.818496Z",
     "shell.execute_reply": "2022-01-30T09:01:47.818496Z",
     "shell.execute_reply.started": "2022-01-30T09:01:47.809489Z"
    },
    "tags": []
   },
   "source": [
    "<div class=\"alert alert-block alert-success\"> \n",
    "    <h3><p style=\"text-align: center;\">Задание 2</p></h3>\n",
    "</div>"
   ]
  },
  {
   "cell_type": "markdown",
   "id": "175cedee-561a-4f6b-9c10-73d020174a9a",
   "metadata": {},
   "source": [
    "Вычислить вектор градиента и матрицу Гессе для функции в точке М=(2, 1, 1)"
   ]
  },
  {
   "cell_type": "code",
   "execution_count": 5,
   "id": "5e8daaec-c429-496a-beca-9aeea43e75af",
   "metadata": {
    "execution": {
     "iopub.execute_input": "2022-02-15T03:31:03.455337Z",
     "iopub.status.busy": "2022-02-15T03:31:03.455337Z",
     "iopub.status.idle": "2022-02-15T03:31:03.702020Z",
     "shell.execute_reply": "2022-02-15T03:31:03.702020Z",
     "shell.execute_reply.started": "2022-02-15T03:31:03.455337Z"
    },
    "tags": []
   },
   "outputs": [
    {
     "data": {
      "text/latex": [
       "$\\displaystyle 2 x_{1}^{3} - 3 x_{1} x_{2} - x_{2}^{3} + 2 x_{2} x_{3}^{2}$"
      ],
      "text/plain": [
       "2*x_1**3 - 3*x_1*x_2 - x_2**3 + 2*x_2*x_3**2"
      ]
     },
     "execution_count": 5,
     "metadata": {},
     "output_type": "execute_result"
    }
   ],
   "source": [
    "import matplotlib.pyplot as plt\n",
    "\n",
    "x_1 = sym.Symbol('x_1')\n",
    "x_2 = sym.Symbol('x_2')\n",
    "x_3 = sym.Symbol('x_3')\n",
    "y = 2*x_1**3 -3*x_1*x_2 +2*x_2*x_3**2 - x_2**3\n",
    "y"
   ]
  },
  {
   "cell_type": "code",
   "execution_count": 37,
   "id": "2efe4a8c-3db5-475a-909e-f64f1e6210da",
   "metadata": {
    "execution": {
     "iopub.execute_input": "2022-02-15T03:56:13.386296Z",
     "iopub.status.busy": "2022-02-15T03:56:13.385297Z",
     "iopub.status.idle": "2022-02-15T03:56:13.393296Z",
     "shell.execute_reply": "2022-02-15T03:56:13.393296Z",
     "shell.execute_reply.started": "2022-02-15T03:56:13.386296Z"
    },
    "tags": []
   },
   "outputs": [
    {
     "data": {
      "text/plain": [
       "array([6*x_1**2 - 3*x_2, -3*x_1 - 3*x_2**2 + 2*x_3**2, 4*x_2*x_3],\n",
       "      dtype=object)"
      ]
     },
     "execution_count": 37,
     "metadata": {},
     "output_type": "execute_result"
    }
   ],
   "source": [
    "# Градиент\n",
    "\n",
    "x_1_diff = y.diff(x_1)\n",
    "x_2_diff = y.diff(x_2)\n",
    "x_3_diff = y.diff(x_3)\n",
    "\n",
    "grad = np.array([x_1_diff, x_2_diff, x_3_diff])\n",
    "grad"
   ]
  },
  {
   "cell_type": "code",
   "execution_count": 34,
   "id": "a95f540c-b491-44ec-bca7-35c9c3892bbe",
   "metadata": {
    "execution": {
     "iopub.execute_input": "2022-02-15T03:55:32.439623Z",
     "iopub.status.busy": "2022-02-15T03:55:32.439623Z",
     "iopub.status.idle": "2022-02-15T03:55:32.450623Z",
     "shell.execute_reply": "2022-02-15T03:55:32.450623Z",
     "shell.execute_reply.started": "2022-02-15T03:55:32.439623Z"
    },
    "tags": []
   },
   "outputs": [
    {
     "data": {
      "text/plain": [
       "array([21, -7, 4], dtype=object)"
      ]
     },
     "execution_count": 34,
     "metadata": {},
     "output_type": "execute_result"
    }
   ],
   "source": [
    "# Градиент в точке М(2, 1, 1)\n",
    "\n",
    "grad_M = np.array([grad[0].subs([(x_1, 2), (x_2, 1), (x_3, 1)]),\n",
    "                   grad[1].subs([(x_1, 2), (x_2, 1), (x_3, 1)]),\n",
    "                   grad[2].subs([(x_1, 2), (x_2, 1), (x_3, 1)])])\n",
    "\n",
    "grad_M"
   ]
  },
  {
   "cell_type": "code",
   "execution_count": 17,
   "id": "ce0a95ee-bd58-408d-89db-425caa0ffd8e",
   "metadata": {
    "execution": {
     "iopub.execute_input": "2022-02-15T03:40:10.471584Z",
     "iopub.status.busy": "2022-02-15T03:40:10.471584Z",
     "iopub.status.idle": "2022-02-15T03:40:10.489584Z",
     "shell.execute_reply": "2022-02-15T03:40:10.489584Z",
     "shell.execute_reply.started": "2022-02-15T03:40:10.471584Z"
    },
    "tags": []
   },
   "outputs": [
    {
     "data": {
      "text/plain": [
       "array([[12*x_1, -3, 0],\n",
       "       [-3, -6*x_2, 4*x_3],\n",
       "       [0, 4*x_3, 4*x_2]], dtype=object)"
      ]
     },
     "execution_count": 17,
     "metadata": {},
     "output_type": "execute_result"
    }
   ],
   "source": [
    "# Матрица Гессе. Вычислим по составляеющим градиента\n",
    "\n",
    "hes_matrix = np.array([[x_1_diff.diff(x_1), x_1_diff.diff(x_2), x_1_diff.diff(x_3)],\n",
    "                       [x_2_diff.diff(x_1), x_2_diff.diff(x_2), x_2_diff.diff(x_3)],\n",
    "                       [x_3_diff.diff(x_1), x_3_diff.diff(x_2), x_3_diff.diff(x_3)]])\n",
    "\n",
    "hes_matrix"
   ]
  },
  {
   "cell_type": "code",
   "execution_count": 92,
   "id": "303d84c1-4e21-4745-b838-c5f2ad043516",
   "metadata": {
    "execution": {
     "iopub.execute_input": "2022-02-15T04:26:29.843758Z",
     "iopub.status.busy": "2022-02-15T04:26:29.843758Z",
     "iopub.status.idle": "2022-02-15T04:26:29.862757Z",
     "shell.execute_reply": "2022-02-15T04:26:29.862757Z",
     "shell.execute_reply.started": "2022-02-15T04:26:29.843758Z"
    },
    "tags": []
   },
   "outputs": [
    {
     "data": {
      "text/plain": [
       "array([[24, -3, 0],\n",
       "       [-3, -6, 4],\n",
       "       [0, 4, 4]], dtype=object)"
      ]
     },
     "execution_count": 92,
     "metadata": {},
     "output_type": "execute_result"
    }
   ],
   "source": [
    "# Матрица Гессе в точке М(2, 1, 1)\n",
    "\n",
    "hes_matrix_M = np.array([[hes_matrix[0][0].subs([(x_1, 2), (x_2, 1), (x_3, 1)]),\n",
    "                          hes_matrix[0][1].subs([(x_1, 2), (x_2, 1), (x_3, 1)]),\n",
    "                          hes_matrix[0][2].subs([(x_1, 2), (x_2, 1), (x_3, 1)])], \n",
    "                         \n",
    "                         [hes_matrix[1][0].subs([(x_1, 2), (x_2, 1), (x_3, 1)]),\n",
    "                          hes_matrix[1][1].subs([(x_1, 2), (x_2, 1), (x_3, 1)]),\n",
    "                          hes_matrix[1][2].subs([(x_1, 2), (x_2, 1), (x_3, 1)])],\n",
    "                         \n",
    "                         [hes_matrix[2][0].subs([(x_1, 2), (x_2, 1), (x_3, 1)]),\n",
    "                          hes_matrix[2][1].subs([(x_1, 2), (x_2, 1), (x_3, 1)]),\n",
    "                          hes_matrix[2][2].subs([(x_1, 2), (x_2, 1), (x_3, 1)])]])\n",
    "\n",
    "hes_matrix_M"
   ]
  },
  {
   "cell_type": "markdown",
   "id": "7b6494be-14bd-45e3-b1d5-1d6a19ef5e92",
   "metadata": {},
   "source": [
    "<div class=\"alert alert-block alert-success\"> \n",
    "    <h3><p style=\"text-align: center;\">Задание 3</p></h3>\n",
    "</div>"
   ]
  },
  {
   "cell_type": "markdown",
   "id": "7035de2f-7853-4352-add3-4f67a162c950",
   "metadata": {},
   "source": [
    "Для функции из задания 2 с использованием критерия Сильвестра определить, является ли матрица Гессе положительно определенной в точке K=(2, -5, -3)"
   ]
  },
  {
   "cell_type": "code",
   "execution_count": 85,
   "id": "55dbc793-a33f-4539-ab9b-aa3701264276",
   "metadata": {
    "execution": {
     "iopub.execute_input": "2022-02-15T04:16:50.218646Z",
     "iopub.status.busy": "2022-02-15T04:16:50.218646Z",
     "iopub.status.idle": "2022-02-15T04:16:50.236645Z",
     "shell.execute_reply": "2022-02-15T04:16:50.236645Z",
     "shell.execute_reply.started": "2022-02-15T04:16:50.218646Z"
    },
    "tags": []
   },
   "outputs": [
    {
     "data": {
      "text/latex": [
       "$\\displaystyle 24$"
      ],
      "text/plain": [
       "24"
      ]
     },
     "execution_count": 85,
     "metadata": {},
     "output_type": "execute_result"
    }
   ],
   "source": [
    "# Минор 1-го порядка\n",
    "m_1_det = hes_matrix[0][0].subs([(x_1, 2), (x_2, -5), (x_3, -3)])\n",
    "m_1_det"
   ]
  },
  {
   "cell_type": "code",
   "execution_count": 82,
   "id": "c000f612-c685-41e1-a468-2dc2e03d318c",
   "metadata": {
    "execution": {
     "iopub.execute_input": "2022-02-15T04:15:08.588227Z",
     "iopub.status.busy": "2022-02-15T04:15:08.587227Z",
     "iopub.status.idle": "2022-02-15T04:15:08.602226Z",
     "shell.execute_reply": "2022-02-15T04:15:08.602226Z",
     "shell.execute_reply.started": "2022-02-15T04:15:08.587227Z"
    },
    "tags": []
   },
   "outputs": [
    {
     "data": {
      "text/plain": [
       "711"
      ]
     },
     "execution_count": 82,
     "metadata": {},
     "output_type": "execute_result"
    }
   ],
   "source": [
    "# Минор 2-го порядка\n",
    "m_2 = hes_matrix[0:2, 0:2]\n",
    "m_2_ = np.matrix([[m_2[0][0].subs([(x_1, 2), (x_2, -5), (x_3, -3)]), m_2[0][1].subs([(x_1, 2), (x_2, -5), (x_3, -3)])],\n",
    "                [m_2[1][0].subs([(x_1, 2), (x_2, -5), (x_3, -3)]), m_2[1][1].subs([(x_1, 2), (x_2, -5), (x_3, -3)])]], dtype='float')\n",
    "\n",
    "m_2_det = round(np.linalg.det(m_2_))\n",
    "m_2_det"
   ]
  },
  {
   "cell_type": "code",
   "execution_count": 86,
   "id": "f386a0ec-d5b6-4b76-b166-255b5a61edd9",
   "metadata": {
    "execution": {
     "iopub.execute_input": "2022-02-15T04:16:58.581445Z",
     "iopub.status.busy": "2022-02-15T04:16:58.581445Z",
     "iopub.status.idle": "2022-02-15T04:16:58.606444Z",
     "shell.execute_reply": "2022-02-15T04:16:58.606444Z",
     "shell.execute_reply.started": "2022-02-15T04:16:58.581445Z"
    },
    "tags": []
   },
   "outputs": [
    {
     "data": {
      "text/plain": [
       "-17676"
      ]
     },
     "execution_count": 86,
     "metadata": {},
     "output_type": "execute_result"
    }
   ],
   "source": [
    "# Минор 3-го порядка\n",
    "m_3 = np.matrix([[hes_matrix[0][0].subs([(x_1, 2), (x_2, -5), (x_3, -3)]),\n",
    "                  hes_matrix[0][1].subs([(x_1, 2), (x_2, -5), (x_3, -3)]),\n",
    "                  hes_matrix[0][2].subs([(x_1, 2), (x_2, -5), (x_3, -3)])], \n",
    "\n",
    "                 [hes_matrix[1][0].subs([(x_1, 2), (x_2, -5), (x_3, -3)]),\n",
    "                  hes_matrix[1][1].subs([(x_1, 2), (x_2, -5), (x_3, -3)]),\n",
    "                  hes_matrix[1][2].subs([(x_1, 2), (x_2, -5), (x_3, -3)])],\n",
    "\n",
    "                 [hes_matrix[2][0].subs([(x_1, 2), (x_2, -5), (x_3, -3)]),\n",
    "                  hes_matrix[2][1].subs([(x_1, 2), (x_2, -5), (x_3, -3)]),\n",
    "                  hes_matrix[2][2].subs([(x_1, 2), (x_2, -5), (x_3, -3)])]], dtype='float')\n",
    "\n",
    "m_3_det = round(np.linalg.det(m_3))\n",
    "m_3_det"
   ]
  },
  {
   "cell_type": "code",
   "execution_count": 91,
   "id": "d6a16057-843d-4a0d-835c-acd8a0cfd773",
   "metadata": {
    "execution": {
     "iopub.execute_input": "2022-02-15T04:24:08.875118Z",
     "iopub.status.busy": "2022-02-15T04:24:08.874118Z",
     "iopub.status.idle": "2022-02-15T04:24:08.893105Z",
     "shell.execute_reply": "2022-02-15T04:24:08.893105Z",
     "shell.execute_reply.started": "2022-02-15T04:24:08.875118Z"
    },
    "tags": []
   },
   "outputs": [
    {
     "name": "stdout",
     "output_type": "stream",
     "text": [
      "Миноры получились равны:  24 , 711 , -17676\n",
      "Так как среди них есть отрицательные значения, но также первый является положительным, знак функции в точке К(2,-5,-3) не определен\n"
     ]
    }
   ],
   "source": [
    "print('Миноры получились равны: ', m_1_det, ',', m_2_det, ',', m_3_det)\n",
    "print(\"Так как среди них есть отрицательные значения, но также первый является положительным, знак функции в точке К(2,-5,-3) не определен\")"
   ]
  }
 ],
 "metadata": {
  "kernelspec": {
   "display_name": "Python 3 (ipykernel)",
   "language": "python",
   "name": "python3"
  },
  "language_info": {
   "codemirror_mode": {
    "name": "ipython",
    "version": 3
   },
   "file_extension": ".py",
   "mimetype": "text/x-python",
   "name": "python",
   "nbconvert_exporter": "python",
   "pygments_lexer": "ipython3",
   "version": "3.9.7"
  }
 },
 "nbformat": 4,
 "nbformat_minor": 5
}
